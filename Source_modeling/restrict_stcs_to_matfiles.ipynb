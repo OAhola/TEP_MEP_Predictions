{
 "cells": [
  {
   "cell_type": "code",
   "execution_count": null,
   "metadata": {},
   "outputs": [],
   "source": [
    "import os\n",
    "import numpy as np\n",
    "import mne\n",
    "import scipy\n",
    "for siteind, site in enumerate(['Tuebingen','Aalto']):\n",
    "    source_site = rf\"D:\\REFTEP_ALL\\Source_analysis\\Source_analysis_{site}\"\n",
    "    for subject in os.listdir(source_site):\n",
    "        sourcepath_subject =os.path.join(source_site,subject)\n",
    "        epochs_filepath = os.path.join(sourcepath_subject,f'{subject}_final_eeg_pre-epo.fif')\n",
    "        epochs = mne.read_epochs(epochs_filepath) #get the respective epochs info for reading the sampling freq\n",
    "        times = epochs.times\n",
    "        for aparctype in ['aparc',str(['n15', 'p30', 'n45', 'p60', 'handknob'])]:\n",
    "            source_estimates_path_subject = os.path.join(sourcepath_subject,f'{subject}_stcs_in_fsaverage_{aparctype}')\n",
    "            n_files = len([file for file in os.listdir(source_estimates_path_subject) if f\"{subject}-fsaverage_{aparctype}_epoch\" in file]) #number of files of this type in the folder\n",
    "            data = np.array([np.load(os.path.join(source_estimates_path_subject,f\"{subject}-fsaverage_{aparctype}_epoch_{k}.npy\")) for k in range(n_files)]) #load all data\n",
    "            if len(times) != data.shape[-1]:\n",
    "                raise ValueError(\"Mismatch in time number of samples of times from channel space eeg and source estimate times\")\n",
    "            scipy.io.savemat(os.path.join(sourcepath_subject, f\"{subject}_{aparctype}_cropped_mne.mat\"),{'source_estimate':data,'times':times})"
   ]
  },
  {
   "cell_type": "code",
   "execution_count": null,
   "metadata": {},
   "outputs": [],
   "source": []
  }
 ],
 "metadata": {
  "kernelspec": {
   "display_name": "base",
   "language": "python",
   "name": "python3"
  },
  "language_info": {
   "codemirror_mode": {
    "name": "ipython",
    "version": 3
   },
   "file_extension": ".py",
   "mimetype": "text/x-python",
   "name": "python",
   "nbconvert_exporter": "python",
   "pygments_lexer": "ipython3",
   "version": "3.11.7"
  }
 },
 "nbformat": 4,
 "nbformat_minor": 2
}
